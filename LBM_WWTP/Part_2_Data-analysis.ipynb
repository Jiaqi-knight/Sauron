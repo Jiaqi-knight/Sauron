{
 "cells": [
  {
   "cell_type": "markdown",
   "metadata": {},
   "source": [
    "## Towards modelling  biotechnological wastewater treatment processes through lattice Boltzmann method - Part 2\n",
    "\n",
    "###  Data analysis\n"
   ]
  },
  {
   "cell_type": "markdown",
   "metadata": {},
   "source": [
    "In this notebook, we will perform an analysis of the scientific studies on mathematical modelling of biotechnological processes related to wastewater treatment systems by using Lattice Boltzmann Method (LBM).\n",
    "\n",
    "To do it, it was created a dataset containing the main information extracted in the papers assessed and our analysis is based on it!\n",
    "\n",
    "Most of the data in the column 'Normalized error for model validation (%)' from our dataset, were extracted from original papers and analysed according to the [Part 3](Part 3 - Data-literature-studies.ipynb) of this series."
   ]
  },
  {
   "cell_type": "markdown",
   "metadata": {},
   "source": [
    "### Checking Python Version"
   ]
  },
  {
   "cell_type": "code",
   "execution_count": 1,
   "metadata": {},
   "outputs": [
    {
     "name": "stdout",
     "output_type": "stream",
     "text": [
      "3.6.8\n"
     ]
    }
   ],
   "source": [
    "from platform import python_version\n",
    "print(python_version())"
   ]
  },
  {
   "cell_type": "markdown",
   "metadata": {},
   "source": [
    "### Importing libraries"
   ]
  },
  {
   "cell_type": "code",
   "execution_count": 2,
   "metadata": {},
   "outputs": [],
   "source": [
    "import numpy as np\n",
    "import matplotlib\n",
    "import matplotlib.pyplot as plt\n",
    "import matplotlib.ticker as plticker\n",
    "import math\n",
    "from math import*\n",
    "from numpy import log as ln\n",
    "import sklearn\n",
    "from sklearn.linear_model import LinearRegression\n",
    "from sklearn.metrics import mean_squared_error\n",
    "from scipy.stats import pearsonr\n",
    "import pandas as pd\n",
    "from pylab import * \n",
    "from scipy import *\n",
    "import seaborn as sns"
   ]
  },
  {
   "cell_type": "markdown",
   "metadata": {},
   "source": [
    "### Assessing our dataset"
   ]
  },
  {
   "cell_type": "code",
   "execution_count": 3,
   "metadata": {},
   "outputs": [
    {
     "data": {
      "text/html": [
       "<div>\n",
       "<style scoped>\n",
       "    .dataframe tbody tr th:only-of-type {\n",
       "        vertical-align: middle;\n",
       "    }\n",
       "\n",
       "    .dataframe tbody tr th {\n",
       "        vertical-align: top;\n",
       "    }\n",
       "\n",
       "    .dataframe thead th {\n",
       "        text-align: right;\n",
       "    }\n",
       "</style>\n",
       "<table border=\"1\" class=\"dataframe\">\n",
       "  <thead>\n",
       "    <tr style=\"text-align: right;\">\n",
       "      <th></th>\n",
       "      <th>Process</th>\n",
       "      <th>Substrate</th>\n",
       "      <th>Parameters Assessed</th>\n",
       "      <th>Collision Model</th>\n",
       "      <th>Lattice Dimension</th>\n",
       "      <th>Boundary condition</th>\n",
       "      <th>Computational Domain (lu)</th>\n",
       "      <th>Bio- model</th>\n",
       "      <th>Normalized error for model validation (%)</th>\n",
       "      <th>Ref.</th>\n",
       "    </tr>\n",
       "  </thead>\n",
       "  <tbody>\n",
       "    <tr>\n",
       "      <th>0</th>\n",
       "      <td>Mono-species biofilm growth</td>\n",
       "      <td>NaN</td>\n",
       "      <td>- Fluid flow - Mass transfer - Bioreaction</td>\n",
       "      <td>BGK</td>\n",
       "      <td>U field: D2Q9 C field: D2Q9</td>\n",
       "      <td>- Non-slip: fluid/biofilm interface - Inlet: C...</td>\n",
       "      <td>Grid nodes: - Re 0.032 to 0.255 Nx = 480  Nz =...</td>\n",
       "      <td>- Monod kinetic</td>\n",
       "      <td>NaN</td>\n",
       "      <td>Picioreanu et al. (2000a)</td>\n",
       "    </tr>\n",
       "    <tr>\n",
       "      <th>1</th>\n",
       "      <td>Mono-species biofilm growth</td>\n",
       "      <td>NaN</td>\n",
       "      <td>- Fluid flow - Mass transfer - Bioreaction</td>\n",
       "      <td>BGK</td>\n",
       "      <td>U field: D2Q9  C field: D2Q9</td>\n",
       "      <td>- Non-slip: fluid/biofilm interface - Inlet: C...</td>\n",
       "      <td>Grid nodes: Nx = 512  Nz = 129</td>\n",
       "      <td>- Monod kinetic - Cellular automata</td>\n",
       "      <td>NaN</td>\n",
       "      <td>Picioreanu et al (2000b)</td>\n",
       "    </tr>\n",
       "    <tr>\n",
       "      <th>2</th>\n",
       "      <td>Biofilm growth in porous media</td>\n",
       "      <td>NaN</td>\n",
       "      <td>- Fluid flow - Mass transfer - Bioreaction</td>\n",
       "      <td>BGK</td>\n",
       "      <td>U field: D3Q19  C field: D3Q19</td>\n",
       "      <td>- Non-periodic solid wall - Non-slip: liquid/ ...</td>\n",
       "      <td>Grid nodes: Nx = 120  Ny = 120 Nz = 120</td>\n",
       "      <td>- Monod kinetic - IbM model</td>\n",
       "      <td>NaN</td>\n",
       "      <td>Graf von der Schulenburg et al (2009)</td>\n",
       "    </tr>\n",
       "    <tr>\n",
       "      <th>3</th>\n",
       "      <td>Reverse osmosis</td>\n",
       "      <td>NaN</td>\n",
       "      <td>- Membrane biofouling - Hydrodynamic  -Mass tr...</td>\n",
       "      <td>MRT</td>\n",
       "      <td>U field: D3Q19  C field: D3Q19</td>\n",
       "      <td>- Non-periodic solid wall - Non-slip: liquid/ ...</td>\n",
       "      <td>Grid nodes: Nx = 120  Ny = 120 Nz = 120</td>\n",
       "      <td>- Monod kinetic - IbM model</td>\n",
       "      <td>57.190</td>\n",
       "      <td>Pintelon et al. (2010)</td>\n",
       "    </tr>\n",
       "    <tr>\n",
       "      <th>4</th>\n",
       "      <td>Photosynthetic Bioreactor</td>\n",
       "      <td>Glucose</td>\n",
       "      <td>- Fluid flow  - Mass transfer - PSB grow  - H2...</td>\n",
       "      <td>BGK</td>\n",
       "      <td>U field: D2Q9  C field: D2Q5</td>\n",
       "      <td>- Curved boundary: non-equilibrium extrapolati...</td>\n",
       "      <td>Grid nodes: Nx = 441  Ny = 83</td>\n",
       "      <td>- Monod kinetic</td>\n",
       "      <td>5.850</td>\n",
       "      <td>Yang et al. (2011)</td>\n",
       "    </tr>\n",
       "    <tr>\n",
       "      <th>5</th>\n",
       "      <td>Degradation of herbicide in microﬂuidic ﬂow ce...</td>\n",
       "      <td>R-2,4-DP*</td>\n",
       "      <td>- Fluid flow  - Mass transfer - Bioreaction - ...</td>\n",
       "      <td>BGK</td>\n",
       "      <td>U field: D2Q9  C field: ﬁnite difference</td>\n",
       "      <td>- Inlet: constant concentration - Solid walls/...</td>\n",
       "      <td>x = 3H y = 4P + D  Where: H: length D: 400µm P...</td>\n",
       "      <td>- Monod kinetic - Cellular automata</td>\n",
       "      <td>4.970</td>\n",
       "      <td>Tang et al. (2013)</td>\n",
       "    </tr>\n",
       "    <tr>\n",
       "      <th>6</th>\n",
       "      <td>Couette–Taylor photobioreactor</td>\n",
       "      <td>NaN</td>\n",
       "      <td>- Fluid flow</td>\n",
       "      <td>BGK</td>\n",
       "      <td>U field: D3Q19</td>\n",
       "      <td>- Curved moving wall: Filippova-Hänel - Bounce...</td>\n",
       "      <td>Grid Node at transverse plane: Nx = 64 Ny = 64</td>\n",
       "      <td>- PSF stochastic model for microalgae  (parall...</td>\n",
       "      <td>10.880</td>\n",
       "      <td>Štumbauer et al. (2013)</td>\n",
       "    </tr>\n",
       "    <tr>\n",
       "      <th>7</th>\n",
       "      <td>Photosynthetic Bioreactor with porous granule ...</td>\n",
       "      <td>Glucose</td>\n",
       "      <td>- Fluid flow  - Mass transfer - PSB grow  - H2...</td>\n",
       "      <td>REV-scale LB</td>\n",
       "      <td>U field: D2Q9  C field: D2Q5</td>\n",
       "      <td>- Inlet, outlet: Periodic - Top, bottom: U=U0 ...</td>\n",
       "      <td>Multi-block LBM: - Coarse block  0 ≤ X ≤ L/2  ...</td>\n",
       "      <td>- Monod kinetic</td>\n",
       "      <td>16.000</td>\n",
       "      <td>Liao et al. (2013)</td>\n",
       "    </tr>\n",
       "    <tr>\n",
       "      <th>8</th>\n",
       "      <td>Photosynthetic Bioreactor</td>\n",
       "      <td>Glucose</td>\n",
       "      <td>- Fluid flow  - Mass transfer  - Bioreaction  ...</td>\n",
       "      <td>Pore-scale LB/ QSGS</td>\n",
       "      <td>U field: D3Q15  C field: D3Q7</td>\n",
       "      <td>- Inlet: U=U0, C=C0. - Wall: U=0;  - Outlet: f...</td>\n",
       "      <td>Multi-block LBM (grid density):  - Fine block:...</td>\n",
       "      <td>- Monod kinetic</td>\n",
       "      <td>5.650</td>\n",
       "      <td>Liao et al. (2017)</td>\n",
       "    </tr>\n",
       "    <tr>\n",
       "      <th>9</th>\n",
       "      <td>Mono-species biofilm growth in porous media</td>\n",
       "      <td>NaN</td>\n",
       "      <td>- Fluid flow - Mass transfer - Bioreaction</td>\n",
       "      <td>BGK</td>\n",
       "      <td>U field: D3Q19  C field: D3Q19</td>\n",
       "      <td>- Non-slip:fluid/solid, fluid/biofilm interfac...</td>\n",
       "      <td>Nodes: Nx = 150  Nz = 150</td>\n",
       "      <td>- Monod kinetic - Cellular automata</td>\n",
       "      <td>46.160</td>\n",
       "      <td>Benioug et al. (2017)</td>\n",
       "    </tr>\n",
       "    <tr>\n",
       "      <th>10</th>\n",
       "      <td>Continuous-flow anaerobic packed-bed reactor</td>\n",
       "      <td>Sugarcane vinasse</td>\n",
       "      <td>- Chemical species transport</td>\n",
       "      <td>BGK</td>\n",
       "      <td>D1Q2 or D1Q3</td>\n",
       "      <td>Inlet: Dirichlet or Danckwerts Outlet: null-Ne...</td>\n",
       "      <td>lx = U * HRT (1000 m = 1.0 lu)</td>\n",
       "      <td>- Monod kinetic</td>\n",
       "      <td>28.070</td>\n",
       "      <td>Fortunato et al. (2018)</td>\n",
       "    </tr>\n",
       "    <tr>\n",
       "      <th>11</th>\n",
       "      <td>Membrane photobioreactor with a circular optic...</td>\n",
       "      <td>Glucose</td>\n",
       "      <td>- Fluid flow  - Mass transfer - PSB grow  - H2...</td>\n",
       "      <td>REV-scale LB</td>\n",
       "      <td>U field: D2Q9  C field: D2Q5</td>\n",
       "      <td>- Iinlet, outlet: Periodic - Top, bottom: U=U0...</td>\n",
       "      <td>Multi-block LBM: - Coarse grid Nx = 101 Ny = 1...</td>\n",
       "      <td>- Monod kinetic</td>\n",
       "      <td>16.000</td>\n",
       "      <td>Yang, Li (2018)</td>\n",
       "    </tr>\n",
       "    <tr>\n",
       "      <th>12</th>\n",
       "      <td>Biofilm growth in porous media</td>\n",
       "      <td>NaN</td>\n",
       "      <td>- Fluid flow - Mass transfer - Bioreaction</td>\n",
       "      <td>BGK</td>\n",
       "      <td>U field: D2Q9  C field: D2Q9</td>\n",
       "      <td>- Multilevel bounce-back - Periodic in x and n...</td>\n",
       "      <td>Nx = 128 Ny =128</td>\n",
       "      <td>- Monod kinetic - IbM model</td>\n",
       "      <td>0.890</td>\n",
       "      <td>Tian, Wang (2019)</td>\n",
       "    </tr>\n",
       "    <tr>\n",
       "      <th>13</th>\n",
       "      <td>Microbial Fuel Cell</td>\n",
       "      <td>Solid organic fraction of municipal waste</td>\n",
       "      <td>- H+ ions migration - Membrane fouling - Power...</td>\n",
       "      <td>BGK</td>\n",
       "      <td>U field: D2Q9</td>\n",
       "      <td>- Reactive BC (no-slip for water and solid was...</td>\n",
       "      <td>lx: 400  ly: 100  Node large: 40,000</td>\n",
       "      <td>- Zwietering et al. (1990)</td>\n",
       "      <td>7.005</td>\n",
       "      <td>Krastev, Falcucci (2019)</td>\n",
       "    </tr>\n",
       "    <tr>\n",
       "      <th>14</th>\n",
       "      <td>Anaerobic Digestor</td>\n",
       "      <td>Municipal wastewater</td>\n",
       "      <td>- Flow patterns mixing: solid, liquid, gaseous...</td>\n",
       "      <td>HLBM</td>\n",
       "      <td>U field: D3Q27</td>\n",
       "      <td>- Bottom and lateral: zero-velocity Bouzidi - ...</td>\n",
       "      <td>Node diameter: 400  Node large: 27,579,306</td>\n",
       "      <td>NaN</td>\n",
       "      <td>16.600</td>\n",
       "      <td>Dapelo et al. (2019)</td>\n",
       "    </tr>\n",
       "    <tr>\n",
       "      <th>15</th>\n",
       "      <td>Multispecies nitrifying biofilm in porous media</td>\n",
       "      <td>Ammonium/nitrite</td>\n",
       "      <td>- Fluid flow - Mass transfer - Bioreaction for...</td>\n",
       "      <td>BGK</td>\n",
       "      <td>U field: D2Q9  C field: D2Q9</td>\n",
       "      <td>- Inlet: U and C constant - Solid walls/surfac...</td>\n",
       "      <td>x = 3H y = 4P + D  Where: H: length D: 400µm P...</td>\n",
       "      <td>- Monod kinetic - Cellular automata</td>\n",
       "      <td>11.420</td>\n",
       "      <td>Delavar, Wang (2020)</td>\n",
       "    </tr>\n",
       "  </tbody>\n",
       "</table>\n",
       "</div>"
      ],
      "text/plain": [
       "                                              Process  \\\n",
       "0                         Mono-species biofilm growth   \n",
       "1                         Mono-species biofilm growth   \n",
       "2                      Biofilm growth in porous media   \n",
       "3                                     Reverse osmosis   \n",
       "4                           Photosynthetic Bioreactor   \n",
       "5   Degradation of herbicide in microﬂuidic ﬂow ce...   \n",
       "6                      Couette–Taylor photobioreactor   \n",
       "7   Photosynthetic Bioreactor with porous granule ...   \n",
       "8                           Photosynthetic Bioreactor   \n",
       "9         Mono-species biofilm growth in porous media   \n",
       "10       Continuous-flow anaerobic packed-bed reactor   \n",
       "11  Membrane photobioreactor with a circular optic...   \n",
       "12                     Biofilm growth in porous media   \n",
       "13                                Microbial Fuel Cell   \n",
       "14                                 Anaerobic Digestor   \n",
       "15    Multispecies nitrifying biofilm in porous media   \n",
       "\n",
       "                                    Substrate  \\\n",
       "0                                         NaN   \n",
       "1                                         NaN   \n",
       "2                                         NaN   \n",
       "3                                         NaN   \n",
       "4                                     Glucose   \n",
       "5                                   R-2,4-DP*   \n",
       "6                                         NaN   \n",
       "7                                     Glucose   \n",
       "8                                     Glucose   \n",
       "9                                         NaN   \n",
       "10                          Sugarcane vinasse   \n",
       "11                                    Glucose   \n",
       "12                                        NaN   \n",
       "13  Solid organic fraction of municipal waste   \n",
       "14                       Municipal wastewater   \n",
       "15                           Ammonium/nitrite   \n",
       "\n",
       "                                  Parameters Assessed      Collision Model  \\\n",
       "0          - Fluid flow - Mass transfer - Bioreaction                  BGK   \n",
       "1          - Fluid flow - Mass transfer - Bioreaction                  BGK   \n",
       "2          - Fluid flow - Mass transfer - Bioreaction                  BGK   \n",
       "3   - Membrane biofouling - Hydrodynamic  -Mass tr...                  MRT   \n",
       "4   - Fluid flow  - Mass transfer - PSB grow  - H2...                  BGK   \n",
       "5   - Fluid flow  - Mass transfer - Bioreaction - ...                  BGK   \n",
       "6                                        - Fluid flow                  BGK   \n",
       "7   - Fluid flow  - Mass transfer - PSB grow  - H2...         REV-scale LB   \n",
       "8   - Fluid flow  - Mass transfer  - Bioreaction  ...  Pore-scale LB/ QSGS   \n",
       "9          - Fluid flow - Mass transfer - Bioreaction                  BGK   \n",
       "10                       - Chemical species transport                  BGK   \n",
       "11  - Fluid flow  - Mass transfer - PSB grow  - H2...         REV-scale LB   \n",
       "12         - Fluid flow - Mass transfer - Bioreaction                  BGK   \n",
       "13  - H+ ions migration - Membrane fouling - Power...                  BGK   \n",
       "14  - Flow patterns mixing: solid, liquid, gaseous...                 HLBM   \n",
       "15  - Fluid flow - Mass transfer - Bioreaction for...                  BGK   \n",
       "\n",
       "                           Lattice Dimension  \\\n",
       "0                U field: D2Q9 C field: D2Q9   \n",
       "1               U field: D2Q9  C field: D2Q9   \n",
       "2             U field: D3Q19  C field: D3Q19   \n",
       "3             U field: D3Q19  C field: D3Q19   \n",
       "4               U field: D2Q9  C field: D2Q5   \n",
       "5   U field: D2Q9  C field: ﬁnite difference   \n",
       "6                             U field: D3Q19   \n",
       "7               U field: D2Q9  C field: D2Q5   \n",
       "8              U field: D3Q15  C field: D3Q7   \n",
       "9             U field: D3Q19  C field: D3Q19   \n",
       "10                              D1Q2 or D1Q3   \n",
       "11              U field: D2Q9  C field: D2Q5   \n",
       "12              U field: D2Q9  C field: D2Q9   \n",
       "13                           U field: D2Q9     \n",
       "14                            U field: D3Q27   \n",
       "15              U field: D2Q9  C field: D2Q9   \n",
       "\n",
       "                                   Boundary condition  \\\n",
       "0   - Non-slip: fluid/biofilm interface - Inlet: C...   \n",
       "1   - Non-slip: fluid/biofilm interface - Inlet: C...   \n",
       "2   - Non-periodic solid wall - Non-slip: liquid/ ...   \n",
       "3   - Non-periodic solid wall - Non-slip: liquid/ ...   \n",
       "4   - Curved boundary: non-equilibrium extrapolati...   \n",
       "5   - Inlet: constant concentration - Solid walls/...   \n",
       "6   - Curved moving wall: Filippova-Hänel - Bounce...   \n",
       "7   - Inlet, outlet: Periodic - Top, bottom: U=U0 ...   \n",
       "8   - Inlet: U=U0, C=C0. - Wall: U=0;  - Outlet: f...   \n",
       "9   - Non-slip:fluid/solid, fluid/biofilm interfac...   \n",
       "10  Inlet: Dirichlet or Danckwerts Outlet: null-Ne...   \n",
       "11  - Iinlet, outlet: Periodic - Top, bottom: U=U0...   \n",
       "12  - Multilevel bounce-back - Periodic in x and n...   \n",
       "13  - Reactive BC (no-slip for water and solid was...   \n",
       "14  - Bottom and lateral: zero-velocity Bouzidi - ...   \n",
       "15  - Inlet: U and C constant - Solid walls/surfac...   \n",
       "\n",
       "                            Computational Domain (lu)  \\\n",
       "0   Grid nodes: - Re 0.032 to 0.255 Nx = 480  Nz =...   \n",
       "1                      Grid nodes: Nx = 512  Nz = 129   \n",
       "2             Grid nodes: Nx = 120  Ny = 120 Nz = 120   \n",
       "3             Grid nodes: Nx = 120  Ny = 120 Nz = 120   \n",
       "4                       Grid nodes: Nx = 441  Ny = 83   \n",
       "5   x = 3H y = 4P + D  Where: H: length D: 400µm P...   \n",
       "6      Grid Node at transverse plane: Nx = 64 Ny = 64   \n",
       "7   Multi-block LBM: - Coarse block  0 ≤ X ≤ L/2  ...   \n",
       "8   Multi-block LBM (grid density):  - Fine block:...   \n",
       "9                           Nodes: Nx = 150  Nz = 150   \n",
       "10                     lx = U * HRT (1000 m = 1.0 lu)   \n",
       "11  Multi-block LBM: - Coarse grid Nx = 101 Ny = 1...   \n",
       "12                                   Nx = 128 Ny =128   \n",
       "13               lx: 400  ly: 100  Node large: 40,000   \n",
       "14         Node diameter: 400  Node large: 27,579,306   \n",
       "15  x = 3H y = 4P + D  Where: H: length D: 400µm P...   \n",
       "\n",
       "                                           Bio- model  \\\n",
       "0                                     - Monod kinetic   \n",
       "1                - Monod kinetic - Cellular automata    \n",
       "2                         - Monod kinetic - IbM model   \n",
       "3                         - Monod kinetic - IbM model   \n",
       "4                                     - Monod kinetic   \n",
       "5                - Monod kinetic - Cellular automata    \n",
       "6   - PSF stochastic model for microalgae  (parall...   \n",
       "7                                     - Monod kinetic   \n",
       "8                                     - Monod kinetic   \n",
       "9                - Monod kinetic - Cellular automata    \n",
       "10                                    - Monod kinetic   \n",
       "11                                    - Monod kinetic   \n",
       "12                        - Monod kinetic - IbM model   \n",
       "13                         - Zwietering et al. (1990)   \n",
       "14                                                NaN   \n",
       "15               - Monod kinetic - Cellular automata    \n",
       "\n",
       "    Normalized error for model validation (%)  \\\n",
       "0                                         NaN   \n",
       "1                                         NaN   \n",
       "2                                         NaN   \n",
       "3                                      57.190   \n",
       "4                                       5.850   \n",
       "5                                       4.970   \n",
       "6                                      10.880   \n",
       "7                                      16.000   \n",
       "8                                       5.650   \n",
       "9                                      46.160   \n",
       "10                                     28.070   \n",
       "11                                     16.000   \n",
       "12                                      0.890   \n",
       "13                                      7.005   \n",
       "14                                     16.600   \n",
       "15                                     11.420   \n",
       "\n",
       "                                     Ref.  \n",
       "0               Picioreanu et al. (2000a)  \n",
       "1                Picioreanu et al (2000b)  \n",
       "2   Graf von der Schulenburg et al (2009)  \n",
       "3                  Pintelon et al. (2010)  \n",
       "4                      Yang et al. (2011)  \n",
       "5                      Tang et al. (2013)  \n",
       "6                 Štumbauer et al. (2013)  \n",
       "7                      Liao et al. (2013)  \n",
       "8                      Liao et al. (2017)  \n",
       "9                   Benioug et al. (2017)  \n",
       "10                Fortunato et al. (2018)  \n",
       "11                        Yang, Li (2018)  \n",
       "12                      Tian, Wang (2019)  \n",
       "13               Krastev, Falcucci (2019)  \n",
       "14                   Dapelo et al. (2019)  \n",
       "15                   Delavar, Wang (2020)  "
      ]
     },
     "execution_count": 3,
     "metadata": {},
     "output_type": "execute_result"
    }
   ],
   "source": [
    "table = pd.read_csv('data-table.csv', encoding='utf-8', sep=',')\n",
    "table = table.replace('\\n', ' ', regex=True)\n",
    "table"
   ]
  },
  {
   "cell_type": "markdown",
   "metadata": {},
   "source": [
    "This dataset contains all the studies assessed previously in the notebook **Towards modelling biotechnological wastewater treatment processes through lattice Boltzmann method - Part 2**. \n",
    "Here, it is worth to mention that the authors *Picioreanu et al. (2000a)*, *Picioreanu et al. (2000b)* and *Graf von der Schulenburg et al (2009)* did not perform validation of their studies with experimental assays or model reference. Meanwhile, *Liao et al. (2017)* had presented this analysis in their study.\n",
    "I also would like to stress that the column **'Normalized error for model validation (%)'** was built through the analysis made in [Part3](Part 3 - Data-literature-studies.ipynb) of this project."
   ]
  },
  {
   "cell_type": "markdown",
   "metadata": {},
   "source": [
    "### Getting some dataset information"
   ]
  },
  {
   "cell_type": "code",
   "execution_count": 4,
   "metadata": {},
   "outputs": [
    {
     "name": "stdout",
     "output_type": "stream",
     "text": [
      "<class 'pandas.core.frame.DataFrame'>\n",
      "RangeIndex: 16 entries, 0 to 15\n",
      "Data columns (total 10 columns):\n",
      " #   Column                                     Non-Null Count  Dtype  \n",
      "---  ------                                     --------------  -----  \n",
      " 0   Process                                    16 non-null     object \n",
      " 1   Substrate                                  9 non-null      object \n",
      " 2   Parameters Assessed                        16 non-null     object \n",
      " 3   Collision Model                            16 non-null     object \n",
      " 4   Lattice Dimension                          16 non-null     object \n",
      " 5   Boundary condition                         16 non-null     object \n",
      " 6   Computational Domain (lu)                  16 non-null     object \n",
      " 7   Bio- model                                 15 non-null     object \n",
      " 8   Normalized error for model validation (%)  13 non-null     float64\n",
      " 9   Ref.                                       16 non-null     object \n",
      "dtypes: float64(1), object(9)\n",
      "memory usage: 1.4+ KB\n"
     ]
    }
   ],
   "source": [
    "table.info()"
   ]
  },
  {
   "cell_type": "markdown",
   "metadata": {},
   "source": [
    "### Checking if there is NaN values in the dataset"
   ]
  },
  {
   "cell_type": "code",
   "execution_count": 5,
   "metadata": {},
   "outputs": [
    {
     "data": {
      "text/plain": [
       "True"
      ]
     },
     "execution_count": 5,
     "metadata": {},
     "output_type": "execute_result"
    }
   ],
   "source": [
    "table.isnull().values.any()"
   ]
  },
  {
   "cell_type": "markdown",
   "metadata": {},
   "source": [
    "### Which were the authors assesed? "
   ]
  },
  {
   "cell_type": "code",
   "execution_count": 6,
   "metadata": {},
   "outputs": [
    {
     "data": {
      "text/plain": [
       "0                 Picioreanu et al. (2000a)\n",
       "1                  Picioreanu et al (2000b)\n",
       "2     Graf von der Schulenburg et al (2009)\n",
       "3                    Pintelon et al. (2010)\n",
       "4                        Yang et al. (2011)\n",
       "5                        Tang et al. (2013)\n",
       "6                   Štumbauer et al. (2013)\n",
       "7                        Liao et al. (2013)\n",
       "8                        Liao et al. (2017)\n",
       "9                     Benioug et al. (2017)\n",
       "10                  Fortunato et al. (2018)\n",
       "11                          Yang, Li (2018)\n",
       "12                        Tian, Wang (2019)\n",
       "13                 Krastev, Falcucci (2019)\n",
       "14                     Dapelo et al. (2019)\n",
       "15                     Delavar, Wang (2020)\n",
       "Name: Ref., dtype: object"
      ]
     },
     "execution_count": 6,
     "metadata": {},
     "output_type": "execute_result"
    }
   ],
   "source": [
    "table['Ref.']"
   ]
  },
  {
   "cell_type": "markdown",
   "metadata": {},
   "source": [
    "### Which are the older studies, conducted before 2010?"
   ]
  },
  {
   "cell_type": "code",
   "execution_count": 7,
   "metadata": {},
   "outputs": [
    {
     "data": {
      "text/plain": [
       "0                Picioreanu et al. (2000a)\n",
       "1                 Picioreanu et al (2000b)\n",
       "2    Graf von der Schulenburg et al (2009)\n",
       "Name: Ref., dtype: object"
      ]
     },
     "execution_count": 7,
     "metadata": {},
     "output_type": "execute_result"
    }
   ],
   "source": [
    "table['Ref.'].head(3)"
   ]
  },
  {
   "cell_type": "markdown",
   "metadata": {},
   "source": [
    "### Which are the plus recent studies, conducted after 2018?"
   ]
  },
  {
   "cell_type": "code",
   "execution_count": 8,
   "metadata": {},
   "outputs": [
    {
     "data": {
      "text/plain": [
       "10     Fortunato et al. (2018)\n",
       "11             Yang, Li (2018)\n",
       "12           Tian, Wang (2019)\n",
       "13    Krastev, Falcucci (2019)\n",
       "14        Dapelo et al. (2019)\n",
       "15        Delavar, Wang (2020)\n",
       "Name: Ref., dtype: object"
      ]
     },
     "execution_count": 8,
     "metadata": {},
     "output_type": "execute_result"
    }
   ],
   "source": [
    "table['Ref.'].tail(6)"
   ]
  },
  {
   "cell_type": "markdown",
   "metadata": {},
   "source": [
    "### Which were the processes analised?"
   ]
  },
  {
   "cell_type": "code",
   "execution_count": 9,
   "metadata": {},
   "outputs": [
    {
     "data": {
      "text/plain": [
       "Photosynthetic Bioreactor                                                   2\n",
       "Mono-species biofilm growth                                                 2\n",
       "Biofilm growth in porous media                                              2\n",
       "Photosynthetic Bioreactor with porous granule immobilized                   1\n",
       "Multispecies nitrifying biofilm in porous media                             1\n",
       "Continuous-flow anaerobic packed-bed reactor                                1\n",
       "Membrane photobioreactor with a circular optical fiber                      1\n",
       "Anaerobic Digestor                                                          1\n",
       "Reverse osmosis                                                             1\n",
       "Degradation of herbicide in microﬂuidic ﬂow cells by Delftia acidovorans    1\n",
       "Couette–Taylor photobioreactor                                              1\n",
       "Microbial Fuel Cell                                                         1\n",
       "Mono-species biofilm growth in porous media                                 1\n",
       "Name: Process, dtype: int64"
      ]
     },
     "execution_count": 9,
     "metadata": {},
     "output_type": "execute_result"
    }
   ],
   "source": [
    "table['Process'].value_counts()"
   ]
  },
  {
   "cell_type": "markdown",
   "metadata": {},
   "source": [
    "### Which was the collision model most applied?"
   ]
  },
  {
   "cell_type": "code",
   "execution_count": 10,
   "metadata": {},
   "outputs": [
    {
     "data": {
      "text/plain": [
       "BGK                    11\n",
       "REV-scale LB            2\n",
       "HLBM                    1\n",
       "MRT                     1\n",
       "Pore-scale LB/ QSGS     1\n",
       "Name: Collision Model, dtype: int64"
      ]
     },
     "execution_count": 10,
     "metadata": {},
     "output_type": "execute_result"
    }
   ],
   "source": [
    "table['Collision Model'].value_counts()"
   ]
  },
  {
   "cell_type": "markdown",
   "metadata": {},
   "source": [
    "### Which was the most common lattice dimension?"
   ]
  },
  {
   "cell_type": "code",
   "execution_count": 11,
   "metadata": {},
   "outputs": [
    {
     "data": {
      "text/plain": [
       "U field: D2Q9  C field: D2Q9                3\n",
       "U field: D2Q9  C field: D2Q5                3\n",
       "U field: D3Q19  C field: D3Q19              3\n",
       "U field: D2Q9  C field: ﬁnite difference    1\n",
       "U field: D2Q9 C field: D2Q9                 1\n",
       "U field: D3Q19                              1\n",
       "U field: D3Q15  C field: D3Q7               1\n",
       "D1Q2 or D1Q3                                1\n",
       "U field: D2Q9                               1\n",
       "U field: D3Q27                              1\n",
       "Name: Lattice Dimension, dtype: int64"
      ]
     },
     "execution_count": 11,
     "metadata": {},
     "output_type": "execute_result"
    }
   ],
   "source": [
    "table['Lattice Dimension'].value_counts()   "
   ]
  },
  {
   "cell_type": "markdown",
   "metadata": {},
   "source": [
    "<span style=\"color:gray\">*where: U=velocity; C=concentration</span>\n",
    "\n"
   ]
  },
  {
   "cell_type": "markdown",
   "metadata": {},
   "source": [
    "### Which were most common the boundary conditions applied ?"
   ]
  },
  {
   "cell_type": "code",
   "execution_count": 12,
   "metadata": {
    "scrolled": false
   },
   "outputs": [
    {
     "data": {
      "text/plain": [
       "- Non-periodic solid wall - Non-slip: liquid/ biofilm and solid/liquid interface - Inlet: U and C constant - Outlet: P constant, diffusive flux = 0 - impermeability: solid-fluid interface - Mass flux continuity: biofilm/ liquid interface    2\n",
       "- Non-slip: fluid/biofilm interface - Inlet: C constant  - Outlet: Cgradient = 0, Top: U = 0 - Biofilm: impermeable walls borders at left, right and bottom                                                                                      2\n",
       "- Inlet: U=U0, C=C0. - Wall: U=0;  - Outlet: free outflow                                                                                                                                                                                        1\n",
       "- Non-slip:fluid/solid, fluid/biofilm interface - Immersed Boundary                                                                                                                                                                              1\n",
       "- Reactive BC (no-slip for water and solid waste species; transparent internal boundary for H+ ions)                                                                                                                                             1\n",
       "- Inlet: U and C constant - Solid walls/surfaces: non-slip, Neumann - Biofilm surface: Neumann - Outlet: flow field and mass transport with zero gradient                                                                                        1\n",
       "- Inlet: constant concentration - Solid walls/ biofilm surface: non-slip (half-way bounce- back)  - Outlet: zero gradient in the flow direction for chemical species - No flux at all solid surfaces                                             1\n",
       "- Bottom and lateral: zero-velocity Bouzidi - Top: partial-slip (Hybrid bounce-back/ Free-slip)                                                                                                                                                  1\n",
       "- Inlet, outlet: Periodic - Top, bottom: U=U0 - Bottom: C=C0. - Top: C=1.0                                                                                                                                                                       1\n",
       "Inlet: Dirichlet or Danckwerts Outlet: null-Neumann                                                                                                                                                                                              1\n",
       "- Curved moving wall: Filippova-Hänel - Bounce-back at solid wall - Half-way bounce-back: between the fluid and the outer lattice node                                                                                                           1\n",
       "- Curved boundary: non-equilibrium extrapolation - Inlet: parabolic velocity  - Outlet: P constant  - Parallel to the X-axis: free-slip U and C constant                                                                                         1\n",
       "- Multilevel bounce-back - Periodic in x and no-slip in y                                                                                                                                                                                        1\n",
       "- Iinlet, outlet: Periodic - Top, bottom: U=U0 - Bottom: C=C0. - Top: C=1.0 - Curved boundary of optical fiber                                                                                                                                   1\n",
       "Name: Boundary condition, dtype: int64"
      ]
     },
     "execution_count": 12,
     "metadata": {},
     "output_type": "execute_result"
    }
   ],
   "source": [
    "table['Boundary condition'].value_counts()"
   ]
  },
  {
   "cell_type": "markdown",
   "metadata": {},
   "source": [
    "### Which were the most common parameters assessed?"
   ]
  },
  {
   "cell_type": "code",
   "execution_count": 13,
   "metadata": {},
   "outputs": [
    {
     "data": {
      "text/plain": [
       "- Fluid flow - Mass transfer - Bioreaction                                                5\n",
       "- Fluid flow  - Mass transfer - PSB grow  - H2 production                                 3\n",
       "- Membrane biofouling - Hydrodynamic  -Mass transfer                                      1\n",
       "- Chemical species transport                                                              1\n",
       "- Flow patterns mixing: solid, liquid, gaseous phases                                     1\n",
       "- Fluid flow                                                                              1\n",
       "- Fluid flow - Mass transfer - Bioreaction for ammonium and nitrite oxidizer bacterial    1\n",
       "- Fluid flow  - Mass transfer - Bioreaction - Contaminant removal                         1\n",
       "- Fluid flow  - Mass transfer  - Bioreaction  - H2 production production                  1\n",
       "- H+ ions migration - Membrane fouling - Power generation                                 1\n",
       "Name: Parameters Assessed, dtype: int64"
      ]
     },
     "execution_count": 13,
     "metadata": {},
     "output_type": "execute_result"
    }
   ],
   "source": [
    "table['Parameters Assessed'].value_counts()"
   ]
  },
  {
   "cell_type": "markdown",
   "metadata": {},
   "source": [
    "### Which was the most common kinetic model used to assess microbial growth?"
   ]
  },
  {
   "cell_type": "code",
   "execution_count": 14,
   "metadata": {},
   "outputs": [
    {
     "data": {
      "text/plain": [
       "- Monod kinetic                                            6\n",
       "- Monod kinetic - Cellular automata                        4\n",
       "- Monod kinetic - IbM model                                3\n",
       "- PSF stochastic model for microalgae  (parallel CUDA.)    1\n",
       "- Zwietering et al. (1990)                                 1\n",
       "Name: Bio- model, dtype: int64"
      ]
     },
     "execution_count": 14,
     "metadata": {},
     "output_type": "execute_result"
    }
   ],
   "source": [
    "table['Bio- model'].value_counts()"
   ]
  },
  {
   "cell_type": "markdown",
   "metadata": {},
   "source": [
    "<span style=\"color:red; font-size:1.1em;\"  > According to the analysis above &uarr;&uarr;&uarr;, **Monod** appears as the kinetic model most common. </span>"
   ]
  },
  {
   "cell_type": "markdown",
   "metadata": {},
   "source": [
    "### Which kind of substrate was adopted to simulate bacterial growth?"
   ]
  },
  {
   "cell_type": "code",
   "execution_count": 15,
   "metadata": {},
   "outputs": [
    {
     "data": {
      "text/plain": [
       "Glucose                                      4\n",
       "Ammonium/nitrite                             1\n",
       "R-2,4-DP*                                    1\n",
       "Solid organic fraction of municipal waste    1\n",
       "Sugarcane vinasse                            1\n",
       "Municipal wastewater                         1\n",
       "Name: Substrate, dtype: int64"
      ]
     },
     "execution_count": 15,
     "metadata": {},
     "output_type": "execute_result"
    }
   ],
   "source": [
    "table['Substrate'].value_counts()"
   ]
  },
  {
   "cell_type": "markdown",
   "metadata": {},
   "source": [
    "<span style=\"color:red; font-size:1.1em;\"  > According to the analysis above &uarr;&uarr;&uarr; **glucose** appears as the most common substrate. </span>"
   ]
  },
  {
   "cell_type": "markdown",
   "metadata": {},
   "source": [
    "### How many studies were not validated with experimental or reference models?"
   ]
  },
  {
   "cell_type": "code",
   "execution_count": 16,
   "metadata": {},
   "outputs": [
    {
     "data": {
      "text/plain": [
       "Process                                      0\n",
       "Substrate                                    7\n",
       "Parameters Assessed                          0\n",
       "Collision Model                              0\n",
       "Lattice Dimension                            0\n",
       "Boundary condition                           0\n",
       "Computational Domain (lu)                    0\n",
       "Bio- model                                   1\n",
       "Normalized error for model validation (%)    3\n",
       "Ref.                                         0\n",
       "dtype: int64"
      ]
     },
     "execution_count": 16,
     "metadata": {},
     "output_type": "execute_result"
    }
   ],
   "source": [
    "table.isnull().sum(axis = 0)"
   ]
  },
  {
   "cell_type": "markdown",
   "metadata": {},
   "source": [
    "<span style=\"color:red; font-size:1.1em;\"  > According to the analysis above &uarr;&uarr;&uarr; , we can observe that there were **3 studies**.</span>"
   ]
  },
  {
   "cell_type": "markdown",
   "metadata": {},
   "source": [
    "### Getting some statistical information about model validation from the studies assessed"
   ]
  },
  {
   "cell_type": "code",
   "execution_count": 17,
   "metadata": {},
   "outputs": [
    {
     "data": {
      "text/plain": [
       "count    13.000000\n",
       "mean     17.437308\n",
       "std      16.866262\n",
       "min       0.890000\n",
       "25%       5.850000\n",
       "50%      11.420000\n",
       "75%      16.600000\n",
       "max      57.190000\n",
       "Name: Normalized error for model validation (%), dtype: float64"
      ]
     },
     "execution_count": 17,
     "metadata": {},
     "output_type": "execute_result"
    }
   ],
   "source": [
    "table['Normalized error for model validation (%)'].dropna().describe()"
   ]
  },
  {
   "cell_type": "markdown",
   "metadata": {},
   "source": [
    "### Which were the authors who did not validate their studies with experimental or reference models?"
   ]
  },
  {
   "cell_type": "code",
   "execution_count": 18,
   "metadata": {},
   "outputs": [
    {
     "data": {
      "text/html": [
       "<div>\n",
       "<style scoped>\n",
       "    .dataframe tbody tr th:only-of-type {\n",
       "        vertical-align: middle;\n",
       "    }\n",
       "\n",
       "    .dataframe tbody tr th {\n",
       "        vertical-align: top;\n",
       "    }\n",
       "\n",
       "    .dataframe thead th {\n",
       "        text-align: right;\n",
       "    }\n",
       "</style>\n",
       "<table border=\"1\" class=\"dataframe\">\n",
       "  <thead>\n",
       "    <tr style=\"text-align: right;\">\n",
       "      <th></th>\n",
       "      <th>Normalized error for model validation (%)</th>\n",
       "      <th>Ref.</th>\n",
       "    </tr>\n",
       "  </thead>\n",
       "  <tbody>\n",
       "    <tr>\n",
       "      <th>0</th>\n",
       "      <td>NaN</td>\n",
       "      <td>Picioreanu et al. (2000a)</td>\n",
       "    </tr>\n",
       "    <tr>\n",
       "      <th>1</th>\n",
       "      <td>NaN</td>\n",
       "      <td>Picioreanu et al (2000b)</td>\n",
       "    </tr>\n",
       "    <tr>\n",
       "      <th>2</th>\n",
       "      <td>NaN</td>\n",
       "      <td>Graf von der Schulenburg et al (2009)</td>\n",
       "    </tr>\n",
       "    <tr>\n",
       "      <th>3</th>\n",
       "      <td>57.190</td>\n",
       "      <td>Pintelon et al. (2010)</td>\n",
       "    </tr>\n",
       "    <tr>\n",
       "      <th>4</th>\n",
       "      <td>5.850</td>\n",
       "      <td>Yang et al. (2011)</td>\n",
       "    </tr>\n",
       "    <tr>\n",
       "      <th>5</th>\n",
       "      <td>4.970</td>\n",
       "      <td>Tang et al. (2013)</td>\n",
       "    </tr>\n",
       "    <tr>\n",
       "      <th>6</th>\n",
       "      <td>10.880</td>\n",
       "      <td>Štumbauer et al. (2013)</td>\n",
       "    </tr>\n",
       "    <tr>\n",
       "      <th>7</th>\n",
       "      <td>16.000</td>\n",
       "      <td>Liao et al. (2013)</td>\n",
       "    </tr>\n",
       "    <tr>\n",
       "      <th>8</th>\n",
       "      <td>5.650</td>\n",
       "      <td>Liao et al. (2017)</td>\n",
       "    </tr>\n",
       "    <tr>\n",
       "      <th>9</th>\n",
       "      <td>46.160</td>\n",
       "      <td>Benioug et al. (2017)</td>\n",
       "    </tr>\n",
       "    <tr>\n",
       "      <th>10</th>\n",
       "      <td>28.070</td>\n",
       "      <td>Fortunato et al. (2018)</td>\n",
       "    </tr>\n",
       "    <tr>\n",
       "      <th>11</th>\n",
       "      <td>16.000</td>\n",
       "      <td>Yang, Li (2018)</td>\n",
       "    </tr>\n",
       "    <tr>\n",
       "      <th>12</th>\n",
       "      <td>0.890</td>\n",
       "      <td>Tian, Wang (2019)</td>\n",
       "    </tr>\n",
       "    <tr>\n",
       "      <th>13</th>\n",
       "      <td>7.005</td>\n",
       "      <td>Krastev, Falcucci (2019)</td>\n",
       "    </tr>\n",
       "    <tr>\n",
       "      <th>14</th>\n",
       "      <td>16.600</td>\n",
       "      <td>Dapelo et al. (2019)</td>\n",
       "    </tr>\n",
       "    <tr>\n",
       "      <th>15</th>\n",
       "      <td>11.420</td>\n",
       "      <td>Delavar, Wang (2020)</td>\n",
       "    </tr>\n",
       "  </tbody>\n",
       "</table>\n",
       "</div>"
      ],
      "text/plain": [
       "    Normalized error for model validation (%)  \\\n",
       "0                                         NaN   \n",
       "1                                         NaN   \n",
       "2                                         NaN   \n",
       "3                                      57.190   \n",
       "4                                       5.850   \n",
       "5                                       4.970   \n",
       "6                                      10.880   \n",
       "7                                      16.000   \n",
       "8                                       5.650   \n",
       "9                                      46.160   \n",
       "10                                     28.070   \n",
       "11                                     16.000   \n",
       "12                                      0.890   \n",
       "13                                      7.005   \n",
       "14                                     16.600   \n",
       "15                                     11.420   \n",
       "\n",
       "                                     Ref.  \n",
       "0               Picioreanu et al. (2000a)  \n",
       "1                Picioreanu et al (2000b)  \n",
       "2   Graf von der Schulenburg et al (2009)  \n",
       "3                  Pintelon et al. (2010)  \n",
       "4                      Yang et al. (2011)  \n",
       "5                      Tang et al. (2013)  \n",
       "6                 Štumbauer et al. (2013)  \n",
       "7                      Liao et al. (2013)  \n",
       "8                      Liao et al. (2017)  \n",
       "9                   Benioug et al. (2017)  \n",
       "10                Fortunato et al. (2018)  \n",
       "11                        Yang, Li (2018)  \n",
       "12                      Tian, Wang (2019)  \n",
       "13               Krastev, Falcucci (2019)  \n",
       "14                   Dapelo et al. (2019)  \n",
       "15                   Delavar, Wang (2020)  "
      ]
     },
     "execution_count": 18,
     "metadata": {},
     "output_type": "execute_result"
    }
   ],
   "source": [
    "table[['Normalized error for model validation (%)','Ref.']]"
   ]
  },
  {
   "cell_type": "markdown",
   "metadata": {},
   "source": [
    "<span style=\"color:red; font-size:1.1em;\">The studies were those present **NaN** values: Picioreanu et al. (2000a), Picioreanu et al (2000b) and Graf von der Schulenburg et al (2009).</span>"
   ]
  },
  {
   "cell_type": "markdown",
   "metadata": {},
   "source": [
    "### Plotting some data"
   ]
  },
  {
   "cell_type": "code",
   "execution_count": 19,
   "metadata": {},
   "outputs": [
    {
     "data": {
      "image/png": "[encoded data removed]",
      "text/plain": [
       "<Figure size 720x360 with 1 Axes>"
      ]
     },
     "metadata": {
      "needs_background": "light"
     },
     "output_type": "display_data"
    }
   ],
   "source": [
    "norm_error = table['Normalized error for model validation (%)'].dropna()\n",
    "author = table['Ref.']\n",
    "plt.figure(figsize=(10,5))\n",
    "sns.barplot(x=author[3:16],y=norm_error)\n",
    "plt.xticks(rotation=80)\n",
    "plt.xlabel('Author')\n",
    "plt.ylabel('Normalized error for model validation (%)')\n",
    "plt.title('Authors vs. Normalized error for model validation (%)')\n",
    "plt.show()"
   ]
  },
  {
   "cell_type": "markdown",
   "metadata": {},
   "source": [
    "### Which was the plus acurate value, with lower Normalized error for model validation?"
   ]
  },
  {
   "cell_type": "code",
   "execution_count": 20,
   "metadata": {},
   "outputs": [
    {
     "name": "stdout",
     "output_type": "stream",
     "text": [
      "The plus accurate: 0.890\n"
     ]
    }
   ],
   "source": [
    "print ('The plus accurate: %.3f' % table['Normalized error for model validation (%)'].min())"
   ]
  },
  {
   "cell_type": "markdown",
   "metadata": {},
   "source": [
    "### Which was the plus acurate model, with lower Normalized error for model validation?"
   ]
  },
  {
   "cell_type": "code",
   "execution_count": 21,
   "metadata": {},
   "outputs": [
    {
     "name": "stdout",
     "output_type": "stream",
     "text": [
      "The less accurate: 57.190\n"
     ]
    }
   ],
   "source": [
    "print('The less accurate: %.3f' %table['Normalized error for model validation (%)'].max())"
   ]
  },
  {
   "cell_type": "markdown",
   "metadata": {},
   "source": [
    "### Which was the mean normalized error for model validation?"
   ]
  },
  {
   "cell_type": "code",
   "execution_count": 22,
   "metadata": {},
   "outputs": [
    {
     "name": "stdout",
     "output_type": "stream",
     "text": [
      "The mean was: 17.437\n"
     ]
    }
   ],
   "source": [
    "print('The mean was: %.3f' %table['Normalized error for model validation (%)'].mean())"
   ]
  },
  {
   "cell_type": "markdown",
   "metadata": {},
   "source": [
    "### Is there some relationship between the error and collision model adopted?"
   ]
  },
  {
   "cell_type": "code",
   "execution_count": 23,
   "metadata": {},
   "outputs": [
    {
     "data": {
      "text/plain": [
       "Collision Model\n",
       "BGK                    14.405625\n",
       "HLBM                   16.600000\n",
       "MRT                    57.190000\n",
       "Pore-scale LB/ QSGS     5.650000\n",
       "REV-scale LB           16.000000\n",
       "Name: Normalized error for model validation (%), dtype: float64"
      ]
     },
     "execution_count": 23,
     "metadata": {},
     "output_type": "execute_result"
    }
   ],
   "source": [
    "table.groupby('Collision Model')['Normalized error for model validation (%)'].mean()"
   ]
  },
  {
   "cell_type": "code",
   "execution_count": 24,
   "metadata": {},
   "outputs": [
    {
     "data": {
      "text/plain": [
       "Collision Model\n",
       "BGK                    46.16\n",
       "HLBM                   16.60\n",
       "MRT                    57.19\n",
       "Pore-scale LB/ QSGS     5.65\n",
       "REV-scale LB           16.00\n",
       "Name: Normalized error for model validation (%), dtype: float64"
      ]
     },
     "execution_count": 24,
     "metadata": {},
     "output_type": "execute_result"
    }
   ],
   "source": [
    "table.groupby('Collision Model')['Normalized error for model validation (%)'].max()"
   ]
  },
  {
   "cell_type": "code",
   "execution_count": 25,
   "metadata": {},
   "outputs": [
    {
     "data": {
      "text/plain": [
       "Collision Model\n",
       "BGK                     0.89\n",
       "HLBM                   16.60\n",
       "MRT                    57.19\n",
       "Pore-scale LB/ QSGS     5.65\n",
       "REV-scale LB           16.00\n",
       "Name: Normalized error for model validation (%), dtype: float64"
      ]
     },
     "execution_count": 25,
     "metadata": {},
     "output_type": "execute_result"
    }
   ],
   "source": [
    "table.groupby('Collision Model')['Normalized error for model validation (%)'].min()"
   ]
  },
  {
   "cell_type": "markdown",
   "metadata": {},
   "source": [
    "### Histogram plot: Frequency vs. Normalized error for model validation"
   ]
  },
  {
   "cell_type": "code",
   "execution_count": 26,
   "metadata": {},
   "outputs": [
    {
     "data": {
      "text/plain": [
       "Text(0, 0.5, 'Frequency')"
      ]
     },
     "execution_count": 26,
     "metadata": {},
     "output_type": "execute_result"
    },
    {
     "data": {
      "image/png": "[encoded data removed]",
      "text/plain": [
       "<Figure size 432x288 with 1 Axes>"
      ]
     },
     "metadata": {
      "needs_background": "light"
     },
     "output_type": "display_data"
    }
   ],
   "source": [
    "table['Normalized error for model validation (%)'].plot.hist(title='Normalized error', colormap='jet')\n",
    "plt.xlabel('Error')\n",
    "plt.ylabel('Frequency')"
   ]
  },
  {
   "cell_type": "markdown",
   "metadata": {},
   "source": [
    "We can observe tha most of models diverged < 20%, compared with its references for validtion. "
   ]
  },
  {
   "cell_type": "markdown",
   "metadata": {},
   "source": [
    "------------------------------------------------------------------------------------------------------------------\n",
    "## Some insights...\n",
    "__________________________________________________________________________________________________________________\n",
    "\n",
    "Considering the analyses above, we propose here a generic schema to modelling biotechnological wastewater treatment processes through the lattice Boltzmann method.\n",
    "The model constitutes basically in 3 parts:\n",
    "- Fluid flow: to compute velocity field;\n",
    "- Mass Transfer: to compute the concentration field;\n",
    "- Bioreaction: to compute bacterial activity\n",
    "\n",
    "For fluid flow and mass transfer would be interesting adopt coupled LBM algorithms, instead, in case of bioreaction and considering Monod kinetics, cellular automata algorithm could be a good alternative to model microbial division.\n",
    "A scheme in show bellow:"
   ]
  },
  {
   "cell_type": "markdown",
   "metadata": {},
   "source": [
    "![Model](images/generic-model_Bio_LBM.jpeg)"
   ]
  },
  {
   "cell_type": "markdown",
   "metadata": {},
   "source": [
    "## References\n",
    "\n",
    "Fortunato VA, Caneppele FL, Ribeiro R, Rabi JA (2017) Development of in-house lattice-Boltzmann simulator of bioreactors for wastewater treatment: basic concepts and initial results. Water Science and Technology 77:838–847. doi: 10.2166/wst.2017.597\n",
    "\n",
    "Krastev VK, Falcucci G (2019) Evaluating the electrochemical and power performances of microbial fuel cells across physical scales: A novel numerical approach. International Journal of Hydrogen Energy 44:4468–4475. doi: 10.1016/j.ijhydene.2018.11.226\n",
    "\n",
    "Liao Q, Yang YX, Zhu X, Chen R (2013) Lattice Boltzmann simulation of substrate solution through a porous granule immobilized PSB-cell for biohydrogen production. International Journal of Hydrogen Energy 38:15700–15709. doi: 10.1016/j.ijhydene.2013.04.056\n",
    "\n",
    "Liao Q, Yang Y-X, Zhu X, et al (2017) Pore-scale lattice Boltzmann simulation of flow and mass transfer in bioreactor with an immobilized granule for biohydrogen production. Science Bulletin 62:22–30. doi: 10.1016/j.scib.2016.11.004\n",
    "\n",
    "Picioreanu C, Loosdrecht MCMV, Heijnen JJ (2000) Effect of diffusive and convective substrate transport on biofilm structure formation: A two-dimensional modeling study. Biotechnology and Bioengineering 69:504–515. doi: 10.1002/1097-0290(20000905)69:5<504::aid-bit5>3.0.co;2-s\n",
    "\n",
    "Picioreanu C, Loosdrecht MCMV, Heijnen JJ (2000) A theoretical study on the effect of surface roughness on mass transport and transformation in biofilms. Biotechnology and Bioengineering 68:355–369. doi: 10.1002/(sici)1097-0290(20000520)68:4<355::aid-bit1>3.0.co;2-a\n",
    "\n",
    "Pintelon TR, Creber SA, Daniel A. Graf Von Der Schulenburg, Johns ML (2010) Validation of 3D simulations of reverse osmosis membrane biofouling. Biotechnology and Bioengineering 106:677–689. doi: 10.1002/bit.22717\n",
    "\n",
    "Tang Y, Valocchi AJ, Werth CJ, Liu H (2013) An improved pore-scale biofilm model and comparison with a microfluidic flow cell experiment. Water Resources Research 49:8370–8382. doi: 10.1002/2013wr013843\n",
    "\n",
    "Tian Z, Wang J (2019) Lattice Boltzmann simulation of biofilm clogging and chemical oxygen demand removal in porous media. AIChE Journal. doi: 10.1002/aic.16661\n",
    "\n",
    "Yang Y, Liao Q, Zhu X, et al (2011) Lattice Boltzmann simulation of substrate flow past a cylinder with PSB biofilm for bio-hydrogen production. International Journal of Hydrogen Energy 36:14031–14040. doi: 10.1016/j.ijhydene.2011.04.026\n",
    "\n",
    "Yang Y, Li J (2018) Simulation of photobioreaction for hydrogen production in membrane bioreactor with an optical fiber. Applied Physics A. doi: 10.1007/s00339-018-1790-3\n",
    "\n",
    "Štumbauer V, Petera K, Štys D (2013) The lattice Boltzmann method in bioreactor design and simulation. Mathematical and Computer Modelling 57:1913–1918. doi: 10.1016/j.mcm.2011.12.033"
   ]
  },
  {
   "cell_type": "markdown",
   "metadata": {},
   "source": [
    "                                        \n",
    "                                        \n",
    "                                                        \n",
    "                                                  **This study is open to contribution!**"
   ]
  },
  {
   "cell_type": "code",
   "execution_count": null,
   "metadata": {},
   "outputs": [],
   "source": []
  },
  {
   "cell_type": "code",
   "execution_count": null,
   "metadata": {},
   "outputs": [],
   "source": []
  }
 ],
 "metadata": {
  "anaconda-cloud": {},
  "kernelspec": {
   "display_name": "lbm",
   "language": "python",
   "name": "lbm"
  },
  "language_info": {
   "codemirror_mode": {
    "name": "ipython",
    "version": 3
   },
   "file_extension": ".py",
   "mimetype": "text/x-python",
   "name": "python",
   "nbconvert_exporter": "python",
   "pygments_lexer": "ipython3",
   "version": "3.6.8"
  }
 },
 "nbformat": 4,
 "nbformat_minor": 1
}
